{
 "cells": [
  {
   "cell_type": "markdown",
   "metadata": {},
   "source": [
    "# Jupyter Notebooks"
   ]
  },
  {
   "cell_type": "markdown",
   "metadata": {},
   "source": [
    "<img src=\"https://www.dataquest.io/wp-content/uploads/2019/01/1-LPnY8nOLg4S6_TG0DEXwsg-1.png\"/>"
   ]
  },
  {
   "cell_type": "markdown",
   "metadata": {},
   "source": [
    "## So What is Jupyter Notebooks?"
   ]
  },
  {
   "cell_type": "markdown",
   "metadata": {},
   "source": [
    "* It is a powerful tool for interactively developing and presenting data science projects. It is also an excellent tool for learning and presentations.<br><br>\n",
    "* A notebook integrates code and it's output into a single document that combines visualisations, narrative text, mathematical equations and other rich information.<br><br>\n",
    "* It promotes interative and rapid development, making notebooks very popular for data science, learning and analysis.<br><br>\n",
    "* <strong>Its also open source and completely free to use!!!</strong>"
   ]
  },
  {
   "cell_type": "markdown",
   "metadata": {},
   "source": [
    "## Things to cover "
   ]
  },
  {
   "cell_type": "markdown",
   "metadata": {},
   "source": [
    "1. Installation"
   ]
  },
  {
   "cell_type": "markdown",
   "metadata": {},
   "source": [
    "2. Creating and interacting with the Notebook"
   ]
  },
  {
   "cell_type": "markdown",
   "metadata": {},
   "source": [
    "3. Quick example of how it works"
   ]
  },
  {
   "cell_type": "markdown",
   "metadata": {},
   "source": [
    "4. Sharing Notebooks"
   ]
  },
  {
   "cell_type": "markdown",
   "metadata": {},
   "source": [
    "5. Examples"
   ]
  },
  {
   "cell_type": "markdown",
   "metadata": {},
   "source": [
    "____"
   ]
  },
  {
   "cell_type": "markdown",
   "metadata": {},
   "source": [
    "## Installation"
   ]
  },
  {
   "cell_type": "markdown",
   "metadata": {},
   "source": [
    "The easiest way to get started with Jupyter Notebooks is to install Python 3. There is a version on A Drive - software, which can be used, remembering to tick the option to save to PATH."
   ]
  },
  {
   "cell_type": "markdown",
   "metadata": {},
   "source": [
    "Once installed, the module can be installed throgh the command line. <font color=blue>**Note:** this requires you to have admin rights on your machine and the command prompt as system administrator.</font>"
   ]
  },
  {
   "attachments": {
    "pipjupyter.png": {
     "image/png": "[encoded data removed]"
    }
   },
   "cell_type": "markdown",
   "metadata": {},
   "source": [
    "![pipjupyter.png](attachment:pipjupyter.png)"
   ]
  },
  {
   "cell_type": "markdown",
   "metadata": {},
   "source": [
    "___"
   ]
  },
  {
   "cell_type": "markdown",
   "metadata": {},
   "source": [
    "## Creating and editing a Notebook"
   ]
  },
  {
   "cell_type": "markdown",
   "metadata": {},
   "source": [
    "Once the module has been installed, you are able to open the Jupyter dashboard, designed to allow the user to manage their notebooks. Think of it as the launchpad for exploring, editing and creating your notebooks.<br><br>\n",
    "This can be launched by opening the command window and entering the command <code>jupyter notebook</code>, which will open up the current CMD working directory."
   ]
  },
  {
   "cell_type": "markdown",
   "metadata": {},
   "source": [
    "<img src=\"https://www.dataquest.io/wp-content/uploads/2019/01/jupyter-dashboard.jpg\"/>"
   ]
  },
  {
   "cell_type": "markdown",
   "metadata": {},
   "source": [
    "This will open the above dashboard in your default web browser, with the content being served from your local machine and Python.<br><br>\n",
    "The dashboard allows you to browse folders and open notebooks. A new notebook is created using the <strong>New</strong> tab in the right hand corner. Selecting Python 3 will open a new notebook <code>Untitled.ipynb</code>. At any time you can change the name of the notebook at the top left of the document."
   ]
  },
  {
   "cell_type": "markdown",
   "metadata": {},
   "source": [
    "<img src=\"https://www.dataquest.io/wp-content/uploads/2019/01/new-notebook-menu.jpg\" align=\"left\"><img src=\"images/RenameNotebook.png\" align=\"right\">"
   ]
  },
  {
   "cell_type": "markdown",
   "metadata": {},
   "source": [
    "### What is a .ipynb file?"
   ]
  },
  {
   "cell_type": "markdown",
   "metadata": {},
   "source": [
    "This is a text file that describes the content of your notebook in <strong>JSON</strong> format. Opening this file outside of the Jupyter dashboard the entire document will be displayed as JSON."
   ]
  },
  {
   "cell_type": "markdown",
   "metadata": {},
   "source": [
    "## The Notebook Interface"
   ]
  },
  {
   "cell_type": "markdown",
   "metadata": {},
   "source": [
    "<img src=\"https://www.dataquest.io/wp-content/uploads/2019/01/new-notebook.jpg\"/>"
   ]
  },
  {
   "cell_type": "markdown",
   "metadata": {},
   "source": [
    "Once you have opened a new notebook, you will see that you are presented with a single cell. Scrolling through the menu bar, you can see that there are multiple pull down menu's which relate to the notebook document."
   ]
  },
  {
   "cell_type": "markdown",
   "metadata": {},
   "source": [
    "Two important tabs on the notebook are the _Cell_ and _Kernel_ tabs. These are key to understanding how Jupyter."
   ]
  },
  {
   "cell_type": "markdown",
   "metadata": {},
   "source": [
    "* A **kernel** is a “computational engine” that executes the code contained in a notebook document.\n",
    "* A **cell** is a container for text to be displayed in the notebook or code to be executed by the notebook’s kernel."
   ]
  },
  {
   "cell_type": "markdown",
   "metadata": {},
   "source": [
    "### Cells"
   ]
  },
  {
   "cell_type": "markdown",
   "metadata": {},
   "source": [
    "Form the body of the notebook, and can be of a few different types:\n",
    "\n",
    "1. **Code cell**: contains code to be executed in the kernel and display it's outputs below.\n",
    "2. **Markdown cell**: contains text formatted using _Markdown_ and displays it's output in-place when it's run.\n",
    "\n",
    "<div class=\"alert alert-block alert-warning\"><strong>Note</strong>: Using # denotes a heading, which can be used in Markdown cells.<br>\n",
    "# Large Heading<br>\n",
    "##### Small italicized Heading\n",
    "    </div>"
   ]
  },
  {
   "cell_type": "code",
   "execution_count": 1,
   "metadata": {},
   "outputs": [
    {
     "data": {
      "text/plain": [
       "150"
      ]
     },
     "execution_count": 1,
     "metadata": {},
     "output_type": "execute_result"
    }
   ],
   "source": [
    "number1 = 100\n",
    "number2 = 50\n",
    "number1 + number2"
   ]
  },
  {
   "cell_type": "markdown",
   "metadata": {},
   "source": [
    "When the cell is run, the output will be displayed below and the label to the left will have changed from <code>In [ ]</code> to <code>In [1]</code>. The output of a code cell also forms part of the document, which is why you can see it in this article.<br><br>\n",
    "the <code>In</code> means 'Input' and the label number indicates the when the cell was executed on the kernel. Running the same cell again, it will change to <code>In [2]</code>."
   ]
  },
  {
   "cell_type": "code",
   "execution_count": 2,
   "metadata": {},
   "outputs": [],
   "source": [
    "number3 = number1 + number2"
   ]
  },
  {
   "cell_type": "code",
   "execution_count": 3,
   "metadata": {},
   "outputs": [
    {
     "data": {
      "text/plain": [
       "150"
      ]
     },
     "execution_count": 3,
     "metadata": {},
     "output_type": "execute_result"
    }
   ],
   "source": [
    "number3"
   ]
  },
  {
   "cell_type": "markdown",
   "metadata": {},
   "source": [
    "### Kernels"
   ]
  },
  {
   "cell_type": "markdown",
   "metadata": {},
   "source": [
    "Behind every notebook runs a kernel. When you run a code cell, that code is executed within the kernel and any output is returned back to the cell to be displayed. The kernel’s state persists over time and between cells — it pertains to the document as a whole and not individual cells."
   ]
  },
  {
   "cell_type": "markdown",
   "metadata": {},
   "source": [
    "<div class=\"alert alert-block alert-warning\">\n",
    "<b>Note:</b> If you import libraries or declare variables in one cell, they will be available in another. In this way, a notebook document is somewhat comparable to a script file, except that it can contain multimedia.\n",
    "</div>"
   ]
  },
  {
   "cell_type": "code",
   "execution_count": 4,
   "metadata": {},
   "outputs": [],
   "source": [
    "import numpy as np"
   ]
  },
  {
   "cell_type": "code",
   "execution_count": 5,
   "metadata": {},
   "outputs": [],
   "source": [
    "x = np.random.randint(1, 10)"
   ]
  },
  {
   "cell_type": "code",
   "execution_count": 8,
   "metadata": {},
   "outputs": [
    {
     "name": "stdout",
     "output_type": "stream",
     "text": [
      "the random number is: 999\n"
     ]
    }
   ],
   "source": [
    "print(\"the random number is: {}\".format(x))"
   ]
  },
  {
   "cell_type": "code",
   "execution_count": 7,
   "metadata": {},
   "outputs": [],
   "source": [
    "x = 999"
   ]
  },
  {
   "cell_type": "markdown",
   "metadata": {},
   "source": [
    "Generally, the flow in your notebook will be top-to-bottom, but it’s common to go back to make changes. In this case, the order of execution stated to the left of each cell, such as above will let you know whether any of your cells have stale output."
   ]
  },
  {
   "cell_type": "markdown",
   "metadata": {},
   "source": [
    "And if you ever wish to reset things, there are several incredibly useful options from the Kernel menu:\n",
    "\n",
    "<div class=\"alert alert-block alert-success\">\n",
    "><strong>Interrupt:</strong> Stop the execution of the current cell after execution has started.<br>\n",
    "><strong>Restart:</strong> restarts the kernel, thus clearing all the variables etc that were defined.<br>\n",
    "><strong>Restart & Clear Output:</strong> same as above but will also wipe the output displayed below your code cells.<br>\n",
    "><strong>Restart & Run All:</strong> same as above but will also run all your cells in order from first to last.<br></div>\n"
   ]
  },
  {
   "cell_type": "markdown",
   "metadata": {},
   "source": [
    "## Sharing Notebooks"
   ]
  },
  {
   "cell_type": "markdown",
   "metadata": {},
   "source": [
    "Most often, notebooks are shared as an end-result document, which means sharing a non-interactive, pre-rendered versions versions of their notebooks. However it is also possible to collaborate with the aid of version control systems such as Git. "
   ]
  },
  {
   "cell_type": "markdown",
   "metadata": {},
   "source": [
    "<div class=\"alert alert-block alert-info\">\n",
    "<b>Note:</b> Currently, I have used Jupyter Notebooks and Bitbucket for documenting the Amendment Team python code for Amendment Printing.<br>\n",
    "</div>"
   ]
  },
  {
   "cell_type": "markdown",
   "metadata": {},
   "source": [
    "__[Bitbucket - Amendment Printing](https://bitbucket.org/Radius_team/python-tools/src/master/BAU/Planning%20Database/Amendment%20Printing/Documentation/Amendments%20Print%20Tool.ipynb?viewer=nbviewer)__"
   ]
  },
  {
   "cell_type": "markdown",
   "metadata": {},
   "source": [
    "Jupyter has built-in support for exporting to HTML and PDF as well as several other formats, which you can find from the menu under **File > Download As**.<br><br>\n",
    "In addition, the notebook can also be exported to a native python script _(.py)_."
   ]
  },
  {
   "cell_type": "markdown",
   "metadata": {},
   "source": [
    "___"
   ]
  },
  {
   "cell_type": "markdown",
   "metadata": {},
   "source": [
    "## Example - Visualising Amendment History in Boroondara"
   ]
  },
  {
   "cell_type": "markdown",
   "metadata": {},
   "source": [
    "For this example we will use the a couple Python modules to visualise tabular data in Jupyter Notebooks.\n",
    "\n",
    "**pandas:** A library that provides high-level data structures and a vast variety of tools for analysis. Heavily used for data analysis and cleaning, providing fast, flexible data structures, which are designed to work with structured data very quickly and intuitively.\n",
    "\n",
    "**matplotlib:** A numerical plotting library. It is very useful for any data scientist or any data analyzer. \n",
    "\n",
    "Firstly we will input these modules "
   ]
  },
  {
   "cell_type": "code",
   "execution_count": 9,
   "metadata": {},
   "outputs": [],
   "source": [
    "import pandas as pd\n",
    "import matplotlib.pyplot as plt\n",
    "import seaborn as sns\n",
    "sns.set(style=\"darkgrid\")"
   ]
  },
  {
   "cell_type": "markdown",
   "metadata": {},
   "source": [
    "We will then use a CSV export from the _AmendmentHistory_ dataset, and convert it into the most commonly used pandas data structure - A **<code>DataFrame</code>**, which basically looks like a table.\n",
    "\n",
    "Jupyter Notebooks presents these DataFrame tables really nicely and it makes it very easy to work with the data."
   ]
  },
  {
   "cell_type": "code",
   "execution_count": 10,
   "metadata": {},
   "outputs": [
    {
     "data": {
      "text/html": [
       "<div>\n",
       "<style scoped>\n",
       "    .dataframe tbody tr th:only-of-type {\n",
       "        vertical-align: middle;\n",
       "    }\n",
       "\n",
       "    .dataframe tbody tr th {\n",
       "        vertical-align: top;\n",
       "    }\n",
       "\n",
       "    .dataframe thead th {\n",
       "        text-align: right;\n",
       "    }\n",
       "</style>\n",
       "<table border=\"1\" class=\"dataframe\">\n",
       "  <thead>\n",
       "    <tr style=\"text-align: right;\">\n",
       "      <th></th>\n",
       "      <th>AmendmentNumber</th>\n",
       "      <th>ZoneOverlayCode</th>\n",
       "      <th>CodeParent</th>\n",
       "      <th>Municipality</th>\n",
       "      <th>GazettedDate</th>\n",
       "    </tr>\n",
       "  </thead>\n",
       "  <tbody>\n",
       "    <tr>\n",
       "      <th>0</th>\n",
       "      <td>C267</td>\n",
       "      <td>GRZ4</td>\n",
       "      <td>GRZ</td>\n",
       "      <td>307</td>\n",
       "      <td>24/05/2018 0:00</td>\n",
       "    </tr>\n",
       "    <tr>\n",
       "      <th>1</th>\n",
       "      <td>C108</td>\n",
       "      <td>D-DDO18</td>\n",
       "      <td>D-DDO</td>\n",
       "      <td>307</td>\n",
       "      <td>9/04/2015 0:00</td>\n",
       "    </tr>\n",
       "    <tr>\n",
       "      <th>2</th>\n",
       "      <td>C95</td>\n",
       "      <td>D-DDO</td>\n",
       "      <td>D-DDO</td>\n",
       "      <td>307</td>\n",
       "      <td>30/06/2009 0:00</td>\n",
       "    </tr>\n",
       "    <tr>\n",
       "      <th>3</th>\n",
       "      <td>C87</td>\n",
       "      <td>R1Z</td>\n",
       "      <td>R1Z</td>\n",
       "      <td>307</td>\n",
       "      <td>22/10/2009 0:00</td>\n",
       "    </tr>\n",
       "    <tr>\n",
       "      <th>4</th>\n",
       "      <td>L33</td>\n",
       "      <td>PMR</td>\n",
       "      <td>NaN</td>\n",
       "      <td>307</td>\n",
       "      <td>8/01/1998 0:00</td>\n",
       "    </tr>\n",
       "    <tr>\n",
       "      <th>5</th>\n",
       "      <td>C58</td>\n",
       "      <td>DDO8</td>\n",
       "      <td>DDO</td>\n",
       "      <td>307</td>\n",
       "      <td>6/10/2006 0:00</td>\n",
       "    </tr>\n",
       "    <tr>\n",
       "      <th>6</th>\n",
       "      <td>C64</td>\n",
       "      <td>HO439</td>\n",
       "      <td>HO</td>\n",
       "      <td>307</td>\n",
       "      <td>1/10/2009 0:00</td>\n",
       "    </tr>\n",
       "    <tr>\n",
       "      <th>7</th>\n",
       "      <td>C64</td>\n",
       "      <td>HO390</td>\n",
       "      <td>HO</td>\n",
       "      <td>307</td>\n",
       "      <td>1/10/2009 0:00</td>\n",
       "    </tr>\n",
       "    <tr>\n",
       "      <th>8</th>\n",
       "      <td>C190</td>\n",
       "      <td>GRZ4</td>\n",
       "      <td>GRZ</td>\n",
       "      <td>307</td>\n",
       "      <td>19/06/2014 0:00</td>\n",
       "    </tr>\n",
       "    <tr>\n",
       "      <th>9</th>\n",
       "      <td>C211</td>\n",
       "      <td>HO603</td>\n",
       "      <td>HO</td>\n",
       "      <td>307</td>\n",
       "      <td>14/05/2015 0:00</td>\n",
       "    </tr>\n",
       "    <tr>\n",
       "      <th>10</th>\n",
       "      <td>C268Pt3</td>\n",
       "      <td>NRZ3</td>\n",
       "      <td>NRZ</td>\n",
       "      <td>307</td>\n",
       "      <td>28/06/2018 0:00</td>\n",
       "    </tr>\n",
       "    <tr>\n",
       "      <th>11</th>\n",
       "      <td>C107</td>\n",
       "      <td>DDO18</td>\n",
       "      <td>DDO</td>\n",
       "      <td>307</td>\n",
       "      <td>12/07/2012 0:00</td>\n",
       "    </tr>\n",
       "    <tr>\n",
       "      <th>12</th>\n",
       "      <td>C268Pt1</td>\n",
       "      <td>D-PO</td>\n",
       "      <td>D-PO</td>\n",
       "      <td>307</td>\n",
       "      <td>27/09/2018 0:00</td>\n",
       "    </tr>\n",
       "    <tr>\n",
       "      <th>13</th>\n",
       "      <td>C152</td>\n",
       "      <td>HO220</td>\n",
       "      <td>HO</td>\n",
       "      <td>307</td>\n",
       "      <td>25/10/2012 0:00</td>\n",
       "    </tr>\n",
       "    <tr>\n",
       "      <th>14</th>\n",
       "      <td>C63</td>\n",
       "      <td>HO343</td>\n",
       "      <td>HO</td>\n",
       "      <td>307</td>\n",
       "      <td>13/12/2007 0:00</td>\n",
       "    </tr>\n",
       "    <tr>\n",
       "      <th>15</th>\n",
       "      <td>VC95</td>\n",
       "      <td>PO1</td>\n",
       "      <td>PO</td>\n",
       "      <td>307</td>\n",
       "      <td>19/04/2013 0:00</td>\n",
       "    </tr>\n",
       "    <tr>\n",
       "      <th>16</th>\n",
       "      <td>C58</td>\n",
       "      <td>DDO8</td>\n",
       "      <td>DDO</td>\n",
       "      <td>307</td>\n",
       "      <td>6/10/2006 0:00</td>\n",
       "    </tr>\n",
       "    <tr>\n",
       "      <th>17</th>\n",
       "      <td>C189</td>\n",
       "      <td>DDO20</td>\n",
       "      <td>DDO</td>\n",
       "      <td>307</td>\n",
       "      <td>7/08/2014 0:00</td>\n",
       "    </tr>\n",
       "    <tr>\n",
       "      <th>18</th>\n",
       "      <td>C64</td>\n",
       "      <td>HO425</td>\n",
       "      <td>HO</td>\n",
       "      <td>307</td>\n",
       "      <td>1/10/2009 0:00</td>\n",
       "    </tr>\n",
       "    <tr>\n",
       "      <th>19</th>\n",
       "      <td>C64</td>\n",
       "      <td>HO402</td>\n",
       "      <td>HO</td>\n",
       "      <td>307</td>\n",
       "      <td>1/10/2009 0:00</td>\n",
       "    </tr>\n",
       "    <tr>\n",
       "      <th>20</th>\n",
       "      <td>C108</td>\n",
       "      <td>DDO16</td>\n",
       "      <td>DDO</td>\n",
       "      <td>307</td>\n",
       "      <td>9/04/2015 0:00</td>\n",
       "    </tr>\n",
       "    <tr>\n",
       "      <th>21</th>\n",
       "      <td>C64</td>\n",
       "      <td>HO460</td>\n",
       "      <td>HO</td>\n",
       "      <td>307</td>\n",
       "      <td>1/10/2009 0:00</td>\n",
       "    </tr>\n",
       "    <tr>\n",
       "      <th>22</th>\n",
       "      <td>C302bor</td>\n",
       "      <td>HO161</td>\n",
       "      <td>HO</td>\n",
       "      <td>307</td>\n",
       "      <td>29/11/2018 0:00</td>\n",
       "    </tr>\n",
       "    <tr>\n",
       "      <th>23</th>\n",
       "      <td>C190</td>\n",
       "      <td>C1Z</td>\n",
       "      <td>C1Z</td>\n",
       "      <td>307</td>\n",
       "      <td>19/06/2014 0:00</td>\n",
       "    </tr>\n",
       "    <tr>\n",
       "      <th>24</th>\n",
       "      <td>C58</td>\n",
       "      <td>DDO9</td>\n",
       "      <td>DDO</td>\n",
       "      <td>307</td>\n",
       "      <td>6/10/2006 0:00</td>\n",
       "    </tr>\n",
       "    <tr>\n",
       "      <th>25</th>\n",
       "      <td>C58</td>\n",
       "      <td>DDO9</td>\n",
       "      <td>DDO</td>\n",
       "      <td>307</td>\n",
       "      <td>6/10/2006 0:00</td>\n",
       "    </tr>\n",
       "    <tr>\n",
       "      <th>26</th>\n",
       "      <td>C64</td>\n",
       "      <td>HO319</td>\n",
       "      <td>HO</td>\n",
       "      <td>307</td>\n",
       "      <td>1/10/2009 0:00</td>\n",
       "    </tr>\n",
       "    <tr>\n",
       "      <th>27</th>\n",
       "      <td>C63</td>\n",
       "      <td>HO274</td>\n",
       "      <td>HO</td>\n",
       "      <td>307</td>\n",
       "      <td>13/12/2007 0:00</td>\n",
       "    </tr>\n",
       "    <tr>\n",
       "      <th>28</th>\n",
       "      <td>C58</td>\n",
       "      <td>DDO8</td>\n",
       "      <td>DDO</td>\n",
       "      <td>307</td>\n",
       "      <td>6/10/2006 0:00</td>\n",
       "    </tr>\n",
       "    <tr>\n",
       "      <th>29</th>\n",
       "      <td>C64</td>\n",
       "      <td>HO413</td>\n",
       "      <td>HO</td>\n",
       "      <td>307</td>\n",
       "      <td>1/10/2009 0:00</td>\n",
       "    </tr>\n",
       "    <tr>\n",
       "      <th>...</th>\n",
       "      <td>...</td>\n",
       "      <td>...</td>\n",
       "      <td>...</td>\n",
       "      <td>...</td>\n",
       "      <td>...</td>\n",
       "    </tr>\n",
       "    <tr>\n",
       "      <th>3022</th>\n",
       "      <td>C274pt2</td>\n",
       "      <td>HO723</td>\n",
       "      <td>HO</td>\n",
       "      <td>307</td>\n",
       "      <td>12/09/2019 0:00</td>\n",
       "    </tr>\n",
       "    <tr>\n",
       "      <th>3023</th>\n",
       "      <td>C274pt2</td>\n",
       "      <td>HO724</td>\n",
       "      <td>HO</td>\n",
       "      <td>307</td>\n",
       "      <td>12/09/2019 0:00</td>\n",
       "    </tr>\n",
       "    <tr>\n",
       "      <th>3024</th>\n",
       "      <td>C274pt2</td>\n",
       "      <td>HO725</td>\n",
       "      <td>HO</td>\n",
       "      <td>307</td>\n",
       "      <td>12/09/2019 0:00</td>\n",
       "    </tr>\n",
       "    <tr>\n",
       "      <th>3025</th>\n",
       "      <td>C274pt2</td>\n",
       "      <td>HO726</td>\n",
       "      <td>HO</td>\n",
       "      <td>307</td>\n",
       "      <td>12/09/2019 0:00</td>\n",
       "    </tr>\n",
       "    <tr>\n",
       "      <th>3026</th>\n",
       "      <td>C274pt2</td>\n",
       "      <td>HO727</td>\n",
       "      <td>HO</td>\n",
       "      <td>307</td>\n",
       "      <td>12/09/2019 0:00</td>\n",
       "    </tr>\n",
       "    <tr>\n",
       "      <th>3027</th>\n",
       "      <td>C274pt2</td>\n",
       "      <td>HO729</td>\n",
       "      <td>HO</td>\n",
       "      <td>307</td>\n",
       "      <td>12/09/2019 0:00</td>\n",
       "    </tr>\n",
       "    <tr>\n",
       "      <th>3028</th>\n",
       "      <td>C274pt2</td>\n",
       "      <td>HO729</td>\n",
       "      <td>HO</td>\n",
       "      <td>307</td>\n",
       "      <td>12/09/2019 0:00</td>\n",
       "    </tr>\n",
       "    <tr>\n",
       "      <th>3029</th>\n",
       "      <td>C274pt2</td>\n",
       "      <td>HO731</td>\n",
       "      <td>HO</td>\n",
       "      <td>307</td>\n",
       "      <td>12/09/2019 0:00</td>\n",
       "    </tr>\n",
       "    <tr>\n",
       "      <th>3030</th>\n",
       "      <td>C274pt2</td>\n",
       "      <td>HO732</td>\n",
       "      <td>HO</td>\n",
       "      <td>307</td>\n",
       "      <td>12/09/2019 0:00</td>\n",
       "    </tr>\n",
       "    <tr>\n",
       "      <th>3031</th>\n",
       "      <td>C274pt2</td>\n",
       "      <td>HO733</td>\n",
       "      <td>HO</td>\n",
       "      <td>307</td>\n",
       "      <td>12/09/2019 0:00</td>\n",
       "    </tr>\n",
       "    <tr>\n",
       "      <th>3032</th>\n",
       "      <td>C274pt2</td>\n",
       "      <td>HO734</td>\n",
       "      <td>HO</td>\n",
       "      <td>307</td>\n",
       "      <td>12/09/2019 0:00</td>\n",
       "    </tr>\n",
       "    <tr>\n",
       "      <th>3033</th>\n",
       "      <td>C274pt2</td>\n",
       "      <td>HO735</td>\n",
       "      <td>HO</td>\n",
       "      <td>307</td>\n",
       "      <td>12/09/2019 0:00</td>\n",
       "    </tr>\n",
       "    <tr>\n",
       "      <th>3034</th>\n",
       "      <td>C274pt2</td>\n",
       "      <td>HO736</td>\n",
       "      <td>HO</td>\n",
       "      <td>307</td>\n",
       "      <td>12/09/2019 0:00</td>\n",
       "    </tr>\n",
       "    <tr>\n",
       "      <th>3035</th>\n",
       "      <td>C274pt2</td>\n",
       "      <td>HO737</td>\n",
       "      <td>HO</td>\n",
       "      <td>307</td>\n",
       "      <td>12/09/2019 0:00</td>\n",
       "    </tr>\n",
       "    <tr>\n",
       "      <th>3036</th>\n",
       "      <td>C274pt2</td>\n",
       "      <td>HO738</td>\n",
       "      <td>HO</td>\n",
       "      <td>307</td>\n",
       "      <td>12/09/2019 0:00</td>\n",
       "    </tr>\n",
       "    <tr>\n",
       "      <th>3037</th>\n",
       "      <td>C274pt2</td>\n",
       "      <td>HO739</td>\n",
       "      <td>HO</td>\n",
       "      <td>307</td>\n",
       "      <td>12/09/2019 0:00</td>\n",
       "    </tr>\n",
       "    <tr>\n",
       "      <th>3038</th>\n",
       "      <td>C274pt2</td>\n",
       "      <td>HO749</td>\n",
       "      <td>HO</td>\n",
       "      <td>307</td>\n",
       "      <td>12/09/2019 0:00</td>\n",
       "    </tr>\n",
       "    <tr>\n",
       "      <th>3039</th>\n",
       "      <td>C303boro</td>\n",
       "      <td>D-HO225</td>\n",
       "      <td>D-HO</td>\n",
       "      <td>307</td>\n",
       "      <td>17/10/2019 0:00</td>\n",
       "    </tr>\n",
       "    <tr>\n",
       "      <th>3040</th>\n",
       "      <td>C303boro</td>\n",
       "      <td>HO171</td>\n",
       "      <td>HO</td>\n",
       "      <td>307</td>\n",
       "      <td>17/10/2019 0:00</td>\n",
       "    </tr>\n",
       "    <tr>\n",
       "      <th>3041</th>\n",
       "      <td>C307boro</td>\n",
       "      <td>HO829</td>\n",
       "      <td>HO</td>\n",
       "      <td>307</td>\n",
       "      <td>24/10/2019 0:00</td>\n",
       "    </tr>\n",
       "    <tr>\n",
       "      <th>3042</th>\n",
       "      <td>C307boro</td>\n",
       "      <td>HO830</td>\n",
       "      <td>HO</td>\n",
       "      <td>307</td>\n",
       "      <td>24/10/2019 0:00</td>\n",
       "    </tr>\n",
       "    <tr>\n",
       "      <th>3043</th>\n",
       "      <td>C307boro</td>\n",
       "      <td>HO832</td>\n",
       "      <td>HO</td>\n",
       "      <td>307</td>\n",
       "      <td>24/10/2019 0:00</td>\n",
       "    </tr>\n",
       "    <tr>\n",
       "      <th>3044</th>\n",
       "      <td>C307boro</td>\n",
       "      <td>HO833</td>\n",
       "      <td>HO</td>\n",
       "      <td>307</td>\n",
       "      <td>24/10/2019 0:00</td>\n",
       "    </tr>\n",
       "    <tr>\n",
       "      <th>3045</th>\n",
       "      <td>C307boro</td>\n",
       "      <td>HO834</td>\n",
       "      <td>HO</td>\n",
       "      <td>307</td>\n",
       "      <td>24/10/2019 0:00</td>\n",
       "    </tr>\n",
       "    <tr>\n",
       "      <th>3046</th>\n",
       "      <td>C307boro</td>\n",
       "      <td>HO835</td>\n",
       "      <td>HO</td>\n",
       "      <td>307</td>\n",
       "      <td>24/10/2019 0:00</td>\n",
       "    </tr>\n",
       "    <tr>\n",
       "      <th>3047</th>\n",
       "      <td>C307boro</td>\n",
       "      <td>HO836</td>\n",
       "      <td>HO</td>\n",
       "      <td>307</td>\n",
       "      <td>24/10/2019 0:00</td>\n",
       "    </tr>\n",
       "    <tr>\n",
       "      <th>3048</th>\n",
       "      <td>C307boro</td>\n",
       "      <td>HO837</td>\n",
       "      <td>HO</td>\n",
       "      <td>307</td>\n",
       "      <td>24/10/2019 0:00</td>\n",
       "    </tr>\n",
       "    <tr>\n",
       "      <th>3049</th>\n",
       "      <td>C307boro</td>\n",
       "      <td>HO838</td>\n",
       "      <td>HO</td>\n",
       "      <td>307</td>\n",
       "      <td>24/10/2019 0:00</td>\n",
       "    </tr>\n",
       "    <tr>\n",
       "      <th>3050</th>\n",
       "      <td>C307boro</td>\n",
       "      <td>HO839</td>\n",
       "      <td>HO</td>\n",
       "      <td>307</td>\n",
       "      <td>24/10/2019 0:00</td>\n",
       "    </tr>\n",
       "    <tr>\n",
       "      <th>3051</th>\n",
       "      <td>C307boro</td>\n",
       "      <td>HO840</td>\n",
       "      <td>HO</td>\n",
       "      <td>307</td>\n",
       "      <td>24/10/2019 0:00</td>\n",
       "    </tr>\n",
       "  </tbody>\n",
       "</table>\n",
       "<p>3052 rows × 5 columns</p>\n",
       "</div>"
      ],
      "text/plain": [
       "     AmendmentNumber ZoneOverlayCode CodeParent  Municipality     GazettedDate\n",
       "0               C267            GRZ4        GRZ           307  24/05/2018 0:00\n",
       "1               C108         D-DDO18      D-DDO           307   9/04/2015 0:00\n",
       "2                C95           D-DDO      D-DDO           307  30/06/2009 0:00\n",
       "3                C87             R1Z        R1Z           307  22/10/2009 0:00\n",
       "4                L33             PMR        NaN           307   8/01/1998 0:00\n",
       "...              ...             ...        ...           ...              ...\n",
       "3047        C307boro           HO836         HO           307  24/10/2019 0:00\n",
       "3048        C307boro           HO837         HO           307  24/10/2019 0:00\n",
       "3049        C307boro           HO838         HO           307  24/10/2019 0:00\n",
       "3050        C307boro           HO839         HO           307  24/10/2019 0:00\n",
       "3051        C307boro           HO840         HO           307  24/10/2019 0:00\n",
       "\n",
       "[3052 rows x 5 columns]"
      ]
     },
     "execution_count": 10,
     "metadata": {},
     "output_type": "execute_result"
    }
   ],
   "source": [
    "df = pd.read_csv(r\"C:\\Data\\Jupyter_Notebooks\\Data\\Boroondara_AmHistory.csv\")\n",
    "df"
   ]
  },
  {
   "cell_type": "markdown",
   "metadata": {},
   "source": [
    "By performing some basic data cleansing on the current <code>DataFrame</code>, we can add a new field **year** based on the _GazettalDate_ field and update the _CodeParent_ field to simplify the data (e.g remove schedule numbers or deletion prefixes (D-) from the data"
   ]
  },
  {
   "cell_type": "code",
   "execution_count": 11,
   "metadata": {},
   "outputs": [],
   "source": [
    "df['year'] = pd.DatetimeIndex(df['GazettedDate']).year\n",
    "df['year'] = df['year'].astype(int)\n",
    "df[\"CodeParent\"]= df[\"CodeParent\"].str.replace('\\d+', '', regex=True)\n",
    "df[\"CodeParent\"]= df[\"CodeParent\"].str.replace('\\D-', '', regex=True)\n",
    "\n",
    "Zones_CodeParent = [\n",
    "        'ACZ', 'BZ', 'B1Z', 'B2Z', 'B3Z', 'B4Z', 'B5Z', 'CZ', 'C1Z',\n",
    "        'C2Z', 'C3Z', 'CA', 'CCZ', 'CDZ', 'D-PS', 'DZ', 'ERZ', 'FZ',\n",
    "        'GRZ', 'GWAZ', 'GWZ', 'IN1Z', 'IN2Z', 'IN3Z',\n",
    "        'LDRZ', 'MUZ', 'NRZ', 'PCRZ', 'PDZ', 'PPRZ',\n",
    "        'PUZ', 'PZ', 'RZ', 'R1Z', 'R2Z', 'R3Z', 'RAZ', 'RCZ',\n",
    "        'RDZ', 'RGZ', 'RLZ', 'RUZ', 'SUZ', 'TZ', 'UFZ',\n",
    "        'UGB', 'UGZ', 'URZ']\n",
    "df.loc[df.CodeParent.isin(Zones_CodeParent), \"CodeParent\"] = 'ZN'"
   ]
  },
  {
   "cell_type": "markdown",
   "metadata": {},
   "source": [
    "Once the data has been cleaned, we are able to use this data to create various types of plots. The purpose of this example is to demonstrate how quickly and easily Jupyter Notebooks can present/diplay these sorts of graphs."
   ]
  },
  {
   "cell_type": "code",
   "execution_count": 12,
   "metadata": {},
   "outputs": [
    {
     "data": {
      "text/plain": [
       "<matplotlib.axes._subplots.AxesSubplot at 0x1936a150>"
      ]
     },
     "execution_count": 12,
     "metadata": {},
     "output_type": "execute_result"
    },
    {
     "data": {
      "image/png": "[encoded data removed]",
      "text/plain": [
       "<Figure size 432x288 with 1 Axes>"
      ]
     },
     "metadata": {
      "needs_background": "light"
     },
     "output_type": "display_data"
    }
   ],
   "source": [
    "df['year'].value_counts(ascending=False).sort_index().plot()"
   ]
  },
  {
   "cell_type": "markdown",
   "metadata": {},
   "source": [
    "Too add another layer of information to our plot, we can also display information from multitple fields. It is also very easy to add a legend, x/y labels and a title to the output."
   ]
  },
  {
   "cell_type": "code",
   "execution_count": 13,
   "metadata": {},
   "outputs": [
    {
     "data": {
      "image/png": "[encoded data removed]",
      "text/plain": [
       "<Figure size 1152x720 with 1 Axes>"
      ]
     },
     "metadata": {
      "needs_background": "light"
     },
     "output_type": "display_data"
    }
   ],
   "source": [
    "colors = ['blue','purple','orange','lightgreen','brown','yellow','pink','lightgrey','grey','green','darkgreen','red']\n",
    "df.groupby(['year','CodeParent']).size().unstack().plot(kind='bar',stacked=True, figsize=(16,10), color=colors)\n",
    "plt.legend(loc='center left', bbox_to_anchor=(1, 0.5))\n",
    "plt.ylabel(\"Number of Amendment Polygons\")\n",
    "plt.title(\"Amendment History of Boroondara\")\n",
    "plt.show()"
   ]
  },
  {
   "cell_type": "markdown",
   "metadata": {},
   "source": [
    "***"
   ]
  },
  {
   "cell_type": "markdown",
   "metadata": {},
   "source": [
    "This is a basic example of the possibilities using Jupyter with pandas and matplotlib. There are many more!!!"
   ]
  },
  {
   "cell_type": "markdown",
   "metadata": {},
   "source": [
    "<img src=\"https://miro.medium.com/max/2832/1*_tAvcFVVOkgY8-GbBPCs3w.png\"/>"
   ]
  },
  {
   "cell_type": "markdown",
   "metadata": {},
   "source": [
    "## Using Jupyter with ArcGIS API for Python"
   ]
  },
  {
   "cell_type": "markdown",
   "metadata": {},
   "source": [
    "Python library to perform GIS visualization and analysis, spatial data management and GIS system administration tasks that can run both interactively, and using scripts.\n",
    "\n",
    "This can be used with Jupyter to view, query and analyse data on ArcGIS Online."
   ]
  },
  {
   "cell_type": "code",
   "execution_count": 14,
   "metadata": {},
   "outputs": [],
   "source": [
    "from IPython.display import display\n",
    "import arcgis\n",
    "from arcgis.gis import GIS"
   ]
  },
  {
   "cell_type": "code",
   "execution_count": 15,
   "metadata": {},
   "outputs": [
    {
     "name": "stdout",
     "output_type": "stream",
     "text": [
      "Successfully logged in as: delwp_tc80\n"
     ]
    }
   ],
   "source": [
    "# connect to your GIS\n",
    "gis = GIS(\"https://delwp.maps.arcgis.com\", username=\"delwp_tc80\", password=\"Indie2018!\")\n",
    "print(\"Successfully logged in as: \" + gis.properties.user.username)"
   ]
  },
  {
   "cell_type": "code",
   "execution_count": 16,
   "metadata": {},
   "outputs": [
    {
     "data": {
      "text/plain": [
       "[<Item title:\"Township_Localities_ABS_ASGS\" type:Feature Layer Collection owner:delwp_cm3u>,\n",
       " <Item title:\"Boundaries\" type:Feature Layer Collection owner:delwp_vg19>]"
      ]
     },
     "execution_count": 16,
     "metadata": {},
     "output_type": "execute_result"
    }
   ],
   "source": [
    "search_result = gis.content.search(query=\"lga\", item_type=\"Feature Layer\")\n",
    "search_result"
   ]
  },
  {
   "cell_type": "code",
   "execution_count": 17,
   "metadata": {},
   "outputs": [
    {
     "data": {
      "text/html": [
       "<div class=\"item_container\" style=\"height: auto; overflow: hidden; border: 1px solid #cfcfcf; border-radius: 2px; background: #f6fafa; line-height: 1.21429em; padding: 10px;\">\n",
       "                    <div class=\"item_left\" style=\"width: 210px; float: left;\">\n",
       "                       <a href='https://delwp.maps.arcgis.com/home/item.html?id=d0aa62f0cace48f1818800a764e8466f' target='_blank'>\n",
       "                        <img src='data:image/png;base64,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' width='200' height='133' class=\"itemThumbnail\">\n",
       "                       </a>\n",
       "                    </div>\n",
       "\n",
       "                    <div class=\"item_right\"     style=\"float: none; width: auto; overflow: hidden;\">\n",
       "                        <a href='https://delwp.maps.arcgis.com/home/item.html?id=d0aa62f0cace48f1818800a764e8466f' target='_blank'><b>Boundaries</b>\n",
       "                        </a>\n",
       "                        <br/>Boundaries - Regional, District, CFA, LGA<img src='https://delwp.maps.arcgis.com/home/js/jsapi/esri/css/images/item_type_icons/featureshosted16.png' style=\"vertical-align:middle;\">Feature Layer Collection by delwp_vg19\n",
       "                        <br/>Last Modified: July 02, 2019\n",
       "                        <br/>0 comments, 1,336 views\n",
       "                    </div>\n",
       "                </div>\n",
       "                "
      ],
      "text/plain": [
       "<Item title:\"Boundaries\" type:Feature Layer Collection owner:delwp_vg19>"
      ]
     },
     "execution_count": 17,
     "metadata": {},
     "output_type": "execute_result"
    }
   ],
   "source": [
    "featureLayer = search_result[1]\n",
    "featureLayer"
   ]
  },
  {
   "cell_type": "code",
   "execution_count": 18,
   "metadata": {},
   "outputs": [
    {
     "data": {
      "application/vnd.jupyter.widget-view+json": {
       "model_id": "9247558e65b244c9990c7f203aa71631",
       "version_major": 2,
       "version_minor": 0
      },
      "text/plain": [
       "MapView(layout=Layout(height='400px', width='100%'))"
      ]
     },
     "metadata": {},
     "output_type": "display_data"
    },
    {
     "data": {
      "text/html": [
       "<div class=\"map-static-img-preview-d5938daf-323c-4c99-9f35-4a4097d6b8c1\"><img src=\"\"></img></div>"
      ],
      "text/plain": [
       "<IPython.core.display.HTML object>"
      ]
     },
     "metadata": {},
     "output_type": "display_data"
    }
   ],
   "source": [
    "m1 = gis.map()\n",
    "m1.add_layer(featureLayer.layers[0])\n",
    "m1"
   ]
  },
  {
   "cell_type": "code",
   "execution_count": 19,
   "metadata": {},
   "outputs": [],
   "source": [
    "from arcgis.features import FeatureLayer"
   ]
  },
  {
   "cell_type": "code",
   "execution_count": 20,
   "metadata": {},
   "outputs": [
    {
     "data": {
      "text/plain": [
       "<FeatureLayer url:\"http://gis.mapshare.vic.gov.au/arcgis/rest/services/Planning/Vicplan_PlanningSchemeOverlays/MapServer/9\">"
      ]
     },
     "execution_count": 20,
     "metadata": {},
     "output_type": "execute_result"
    }
   ],
   "source": [
    "lyr_url = 'http://gis.mapshare.vic.gov.au/arcgis/rest/services/Planning/Vicplan_PlanningSchemeOverlays/MapServer/9'\n",
    "\n",
    "layer = FeatureLayer(lyr_url)\n",
    "layer"
   ]
  },
  {
   "cell_type": "code",
   "execution_count": 21,
   "metadata": {},
   "outputs": [
    {
     "data": {
      "application/vnd.jupyter.widget-view+json": {
       "model_id": "9247558e65b244c9990c7f203aa71631",
       "version_major": 2,
       "version_minor": 0
      },
      "text/plain": [
       "MapView(jupyter_target='notebook', layout=Layout(height='400px', width='100%'), ready=True)"
      ]
     },
     "metadata": {},
     "output_type": "display_data"
    },
    {
     "data": {
      "text/html": [
       "<div class=\"map-static-img-preview-d5938daf-323c-4c99-9f35-4a4097d6b8c1\"><img src=\"\"></img></div>"
      ],
      "text/plain": [
       "<IPython.core.display.HTML object>"
      ]
     },
     "metadata": {},
     "output_type": "display_data"
    }
   ],
   "source": [
    "m1.add_layer(layer)\n",
    "m1"
   ]
  },
  {
   "cell_type": "code",
   "execution_count": 22,
   "metadata": {},
   "outputs": [
    {
     "data": {
      "text/plain": [
       "3"
      ]
     },
     "execution_count": 22,
     "metadata": {},
     "output_type": "execute_result"
    }
   ],
   "source": [
    "query_result1 = layer.query(where=\"ZONE_CODE='HO1000'\", \n",
    "                                    out_fields='*')\n",
    "len(query_result1.features)"
   ]
  },
  {
   "cell_type": "code",
   "execution_count": 23,
   "metadata": {},
   "outputs": [],
   "source": [
    "m2 = gis.map()\n",
    "m2.add_layer(query_result1)"
   ]
  },
  {
   "cell_type": "code",
   "execution_count": 24,
   "metadata": {},
   "outputs": [
    {
     "data": {
      "application/vnd.jupyter.widget-view+json": {
       "model_id": "56231de659aa4f65a627c957bf0e5550",
       "version_major": 2,
       "version_minor": 0
      },
      "text/plain": [
       "MapView(layout=Layout(height='400px', width='100%'))"
      ]
     },
     "metadata": {},
     "output_type": "display_data"
    },
    {
     "data": {
      "text/html": [
       "<div class=\"map-static-img-preview-28508c4b-3e36-4f5d-a426-2a61f55899ed\"><img src=\"\"></img></div>"
      ],
      "text/plain": [
       "<IPython.core.display.HTML object>"
      ]
     },
     "metadata": {},
     "output_type": "display_data"
    }
   ],
   "source": [
    "m2"
   ]
  },
  {
   "cell_type": "markdown",
   "metadata": {},
   "source": [
    "# Summary"
   ]
  },
  {
   "cell_type": "markdown",
   "metadata": {},
   "source": [
    "1. Powerful, versatile and shareable.\n",
    "\n",
    "2. Provide the ability to perform data visualization in the same environment.\n",
    "\n",
    "3. Open source and stacks of documentation online."
   ]
  },
  {
   "cell_type": "markdown",
   "metadata": {},
   "source": [
    "<img src=\"https://thumbs.gfycat.com/WateryIncomparableCony-size_restricted.gif\"/>"
   ]
  },
  {
   "cell_type": "code",
   "execution_count": null,
   "metadata": {},
   "outputs": [],
   "source": []
  }
 ],
 "metadata": {
  "kernelspec": {
   "display_name": "Python 3",
   "language": "python",
   "name": "python3"
  },
  "language_info": {
   "codemirror_mode": {
    "name": "ipython",
    "version": 3
   },
   "file_extension": ".py",
   "mimetype": "text/x-python",
   "name": "python",
   "nbconvert_exporter": "python",
   "pygments_lexer": "ipython3",
   "version": "3.7.3"
  }
 },
 "nbformat": 4,
 "nbformat_minor": 2
}
