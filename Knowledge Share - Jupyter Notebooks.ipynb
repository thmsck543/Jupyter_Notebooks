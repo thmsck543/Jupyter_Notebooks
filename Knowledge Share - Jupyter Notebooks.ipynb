{
 "cells": [
  {
   "cell_type": "markdown",
   "metadata": {},
   "source": [
    "# Jupyter Notebooks, Python and ESRI ArcGIS API"
   ]
  },
  {
   "cell_type": "markdown",
   "metadata": {},
   "source": [
    "<img src=\"https://www.dataquest.io/wp-content/uploads/2019/01/1-LPnY8nOLg4S6_TG0DEXwsg-1.png\"/>"
   ]
  },
  {
   "cell_type": "markdown",
   "metadata": {},
   "source": [
    "# So What is a Jupyter Notebook?"
   ]
  },
  {
   "cell_type": "markdown",
   "metadata": {},
   "source": [
    "* It is a powerful tool for interactively developing and presenting data science projects.<br><br>\n",
    "* A notebook integrates code and it's output into a single document that combines visualisations, narrative text, mathematical equations and other rich information.<br><br>\n",
    "* It promotes interative and rapid development, making notebooks very popular for data science and analysis.<br><br>\n",
    "* <strong>Its also open source and completely free to use!!!</strong>"
   ]
  },
  {
   "cell_type": "markdown",
   "metadata": {},
   "source": [
    "# Things I will try to cover "
   ]
  },
  {
   "cell_type": "markdown",
   "metadata": {},
   "source": [
    "1. Installation"
   ]
  },
  {
   "cell_type": "markdown",
   "metadata": {},
   "source": [
    "2. Creating and interacting with the Notebook"
   ]
  },
  {
   "cell_type": "markdown",
   "metadata": {},
   "source": [
    "3. Quick example of how it works"
   ]
  },
  {
   "cell_type": "markdown",
   "metadata": {},
   "source": [
    "4. Sharing Notebooks"
   ]
  },
  {
   "cell_type": "markdown",
   "metadata": {},
   "source": [
    "5. Example with ArcGIS API for Python"
   ]
  },
  {
   "cell_type": "markdown",
   "metadata": {},
   "source": [
    "# Installation"
   ]
  },
  {
   "cell_type": "markdown",
   "metadata": {},
   "source": [
    "The easiest way to get started with Jupyter Notebooks is to install Python 3. There is a version on A Drive - software, which can be used, remembering to tick the option to save to PATH."
   ]
  },
  {
   "cell_type": "markdown",
   "metadata": {},
   "source": [
    "Once installed, the module can be installed throgh the command line"
   ]
  },
  {
   "cell_type": "markdown",
   "metadata": {},
   "source": [
    "<strong>!insert image for pip install jupyter_notebook!</strong>"
   ]
  },
  {
   "cell_type": "markdown",
   "metadata": {},
   "source": [
    "# Creating and editing a Notebook"
   ]
  },
  {
   "cell_type": "markdown",
   "metadata": {},
   "source": [
    "Once the module has been installed, you are able to open the Jupyter dashboard, designed to allow the user to manage their notebooks. Think of it as the launchpad for exploring, editing and creating your notebooks.<br><br>\n",
    "This can be launched by opening the command window and entering the command <code>jupyter notebook</code>, which will open up the current CMD working directory."
   ]
  },
  {
   "cell_type": "markdown",
   "metadata": {},
   "source": [
    "<img src=\"https://www.dataquest.io/wp-content/uploads/2019/01/jupyter-dashboard.jpg\"/>"
   ]
  },
  {
   "cell_type": "markdown",
   "metadata": {},
   "source": [
    "This will open the above dashboard in your default web browser, with the content being served from your local machine and Python.<br><br>\n",
    "The dashboard allows you to browse folders and open notebooks. A new notebook is created using the <strong>New</strong> tab in the right hand corner. Selecting Python 3 will open a new notebook <code>Untitled.ipynb</code>."
   ]
  },
  {
   "cell_type": "markdown",
   "metadata": {},
   "source": [
    "<img src=\"https://www.dataquest.io/wp-content/uploads/2019/01/new-notebook-menu.jpg\"/>"
   ]
  },
  {
   "cell_type": "markdown",
   "metadata": {},
   "source": [
    "### What is a .ipynb file?"
   ]
  },
  {
   "cell_type": "markdown",
   "metadata": {},
   "source": [
    "This is a text file that describes the content of your notebook in <strong>JSON</strong> format. Opening this file outside of the Jupyter dashboard the entire document will be displayed as JSON."
   ]
  },
  {
   "cell_type": "markdown",
   "metadata": {},
   "source": [
    "## The Notebook Interface"
   ]
  },
  {
   "cell_type": "markdown",
   "metadata": {},
   "source": [
    "<img src=\"https://www.dataquest.io/wp-content/uploads/2019/01/new-notebook.jpg\"/>"
   ]
  },
  {
   "cell_type": "markdown",
   "metadata": {},
   "source": [
    "Once you have opened a new notebook, you will see that you are presented with a single cell. Scrolling through the menu bar, you can see that there are multiple pull down menu's which relate to the notebook document."
   ]
  },
  {
   "cell_type": "markdown",
   "metadata": {},
   "source": [
    "Two important tabs on the notebook are the _Cell_ and _Kernel_ tabs. These are key to understanding how Jupyter."
   ]
  },
  {
   "cell_type": "markdown",
   "metadata": {},
   "source": [
    "* A **kernel** is a “computational engine” that executes the code contained in a notebook document.\n",
    "* A **cell** is a container for text to be displayed in the notebook or code to be executed by the notebook’s kernel."
   ]
  },
  {
   "cell_type": "markdown",
   "metadata": {},
   "source": [
    "### Cells"
   ]
  },
  {
   "cell_type": "markdown",
   "metadata": {},
   "source": [
    "Form the body of the notebook, and can be of a few different types:\n",
    "\n",
    "1. **Code cell**: contains code to be executed in the kernel and display it's outputs below.\n",
    "2. **Markdown cell**: contains text formatted using _Markdown_ and displays it's output in-place when it's run.\n",
    "\n",
    "<div class=\"alert alert-block alert-warning\"><strong>Note</strong>: Using # denotes a heading, which can be used in Markdown cells.<br>\n",
    "# Large Heading<br>\n",
    "##### Small italicized Heading\n",
    "    </div>"
   ]
  },
  {
   "cell_type": "code",
   "execution_count": 18,
   "metadata": {},
   "outputs": [
    {
     "data": {
      "text/plain": [
       "150"
      ]
     },
     "execution_count": 18,
     "metadata": {},
     "output_type": "execute_result"
    }
   ],
   "source": [
    "number1 = 100\n",
    "number2 = 50\n",
    "number1 + number2"
   ]
  },
  {
   "cell_type": "markdown",
   "metadata": {},
   "source": [
    "When the cell is run, the output will be displayed below and the label to the left will have changed from <code>In [ ]</code> to <code>In [1]</code>. The output of a code cell also forms part of the document, which is why you can see it in this article.<br><br>\n",
    "the <code>In</code> means 'Input' and the label number indicates the when the cell was executed on the kernel. Running the same cell again, it will change to <code>In [2]</code>."
   ]
  },
  {
   "cell_type": "code",
   "execution_count": 19,
   "metadata": {},
   "outputs": [],
   "source": [
    "number3 = number1 + number2"
   ]
  },
  {
   "cell_type": "code",
   "execution_count": 20,
   "metadata": {},
   "outputs": [
    {
     "data": {
      "text/plain": [
       "150"
      ]
     },
     "execution_count": 20,
     "metadata": {},
     "output_type": "execute_result"
    }
   ],
   "source": [
    "number3"
   ]
  },
  {
   "cell_type": "markdown",
   "metadata": {},
   "source": [
    "### Kernels"
   ]
  },
  {
   "cell_type": "markdown",
   "metadata": {},
   "source": [
    "Behind every notebook runs a kernel. When you run a code cell, that code is executed within the kernel and any output is returned back to the cell to be displayed. The kernel’s state persists over time and between cells — it pertains to the document as a whole and not individual cells."
   ]
  },
  {
   "cell_type": "markdown",
   "metadata": {},
   "source": [
    "<div class=\"alert alert-block alert-warning\">\n",
    "<b>Note:</b> If you import libraries or declare variables in one cell, they will be available in another. In this way, a notebook document is somewhat comparable to a script file, except that it can contain multimedia.\n",
    "</div>"
   ]
  },
  {
   "cell_type": "code",
   "execution_count": 23,
   "metadata": {},
   "outputs": [],
   "source": [
    "import numpy as np"
   ]
  },
  {
   "cell_type": "code",
   "execution_count": 30,
   "metadata": {},
   "outputs": [],
   "source": [
    "x = np.random.randint(1, 10)"
   ]
  },
  {
   "cell_type": "code",
   "execution_count": 33,
   "metadata": {},
   "outputs": [
    {
     "name": "stdout",
     "output_type": "stream",
     "text": [
      "the random number is: 999\n"
     ]
    }
   ],
   "source": [
    "print(\"the random number is: {}\".format(x))"
   ]
  },
  {
   "cell_type": "code",
   "execution_count": 32,
   "metadata": {},
   "outputs": [],
   "source": [
    "x = 999"
   ]
  },
  {
   "cell_type": "markdown",
   "metadata": {},
   "source": [
    "Generally, the flow in your notebook will be top-to-bottom, but it’s common to go back to make changes. In this case, the order of execution stated to the left of each cell, such as above will let you know whether any of your cells have stale output."
   ]
  },
  {
   "cell_type": "markdown",
   "metadata": {},
   "source": [
    "And if you ever wish to reset things, there are several incredibly useful options from the Kernel menu:\n",
    "\n",
    "<div class=\"alert alert-block alert-success\">\n",
    "><strong>Interrupt:</strong> Stop the execution of the current cell after execution has started.<br>\n",
    "><strong>Restart:</strong> restarts the kernel, thus clearing all the variables etc that were defined.<br>\n",
    "><strong>Restart & Clear Output:</strong> same as above but will also wipe the output displayed below your code cells.<br>\n",
    "><strong>Restart & Run All:</strong> same as above but will also run all your cells in order from first to last.<br></div>\n"
   ]
  },
  {
   "cell_type": "markdown",
   "metadata": {},
   "source": [
    "# INSERT WORKING CSV EXAMPLE HERE"
   ]
  },
  {
   "cell_type": "markdown",
   "metadata": {},
   "source": [
    "# Sharing Notebooks"
   ]
  },
  {
   "cell_type": "markdown",
   "metadata": {},
   "source": [
    "Most often, notebooks are shared as an end-result document, which means sharing a non-interactive, pre-rendered versions versions of their notebooks. However it is also possible to collaborate with the aid of version control systems such as Git. "
   ]
  },
  {
   "cell_type": "markdown",
   "metadata": {},
   "source": [
    "<div class=\"alert alert-block alert-info\">\n",
    "<b>Note:</b> Currently, I have used Jupyter Notebooks and Bitbucket for documenting the Amendment Team python code for Amendment Printing.<br>\n",
    "</div>"
   ]
  },
  {
   "cell_type": "markdown",
   "metadata": {},
   "source": [
    "## INSERT SCREEN SHOT"
   ]
  },
  {
   "cell_type": "markdown",
   "metadata": {},
   "source": [
    "__[Bitbucket - Amendment Printing](https://bitbucket.org/Radius_team/python-tools/src/master/BAU/Planning%20Database/Amendment%20Printing/Documentation/Amendments%20Print%20Tool.ipynb?viewer=nbviewer)__"
   ]
  },
  {
   "cell_type": "markdown",
   "metadata": {},
   "source": [
    "Jupyter has built-in support for exporting to HTML and PDF as well as several other formats, which you can find from the menu under **File > Download As**.<br><br>\n",
    "In addition, the notebook can also be exported to a native python script _(.py)_."
   ]
  },
  {
   "cell_type": "code",
   "execution_count": null,
   "metadata": {},
   "outputs": [],
   "source": []
  }
 ],
 "metadata": {
  "kernelspec": {
   "display_name": "Python 3",
   "language": "python",
   "name": "python3"
  },
  "language_info": {
   "codemirror_mode": {
    "name": "ipython",
    "version": 3
   },
   "file_extension": ".py",
   "mimetype": "text/x-python",
   "name": "python",
   "nbconvert_exporter": "python",
   "pygments_lexer": "ipython3",
   "version": "3.7.3"
  }
 },
 "nbformat": 4,
 "nbformat_minor": 2
}
