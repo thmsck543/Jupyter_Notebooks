{
 "cells": [
  {
   "cell_type": "markdown",
   "metadata": {},
   "source": [
    "# Jupyter Notebooks"
   ]
  },
  {
   "cell_type": "markdown",
   "metadata": {},
   "source": [
    "<img src=\"https://www.dataquest.io/wp-content/uploads/2019/01/1-LPnY8nOLg4S6_TG0DEXwsg-1.png\"/>"
   ]
  },
  {
   "cell_type": "markdown",
   "metadata": {},
   "source": [
    "## So What is Jupyter Notebooks?"
   ]
  },
  {
   "cell_type": "markdown",
   "metadata": {},
   "source": [
    "* It is a powerful tool for interactively developing and presenting data science projects. It is also an excellent tool for learning and presentations.<br><br>\n",
    "* A notebook integrates code and it's output into a single document that combines visualisations, narrative text, mathematical equations and other rich information.<br><br>\n",
    "* It promotes interative and rapid development, making notebooks very popular for data science, learning and analysis.<br><br>\n",
    "* <strong>Its also open source and completely free to use!!!</strong>"
   ]
  },
  {
   "cell_type": "markdown",
   "metadata": {},
   "source": [
    "## Things to cover "
   ]
  },
  {
   "cell_type": "markdown",
   "metadata": {},
   "source": [
    "1. Installation"
   ]
  },
  {
   "cell_type": "markdown",
   "metadata": {},
   "source": [
    "2. Creating and interacting with the Notebook"
   ]
  },
  {
   "cell_type": "markdown",
   "metadata": {},
   "source": [
    "3. Quick example of how it works"
   ]
  },
  {
   "cell_type": "markdown",
   "metadata": {},
   "source": [
    "4. Sharing Notebooks"
   ]
  },
  {
   "cell_type": "markdown",
   "metadata": {},
   "source": [
    "5. Examples"
   ]
  },
  {
   "cell_type": "markdown",
   "metadata": {},
   "source": [
    "____"
   ]
  },
  {
   "cell_type": "markdown",
   "metadata": {},
   "source": [
    "## Installation"
   ]
  },
  {
   "cell_type": "markdown",
   "metadata": {},
   "source": [
    "The easiest way to get started with Jupyter Notebooks is to install Python 3. There is a version on A Drive - software, which can be used, remembering to tick the option to save to PATH."
   ]
  },
  {
   "cell_type": "markdown",
   "metadata": {},
   "source": [
    "Once installed, the module can be installed throgh the command line. <font color=blue>**Note:** this requires you to have admin rights on your machine and the command prompt as system administrator.</font>"
   ]
  },
  {
   "attachments": {
    "pipjupyter.png": {
     "image/png": "[encoded data removed]"
    }
   },
   "cell_type": "markdown",
   "metadata": {},
   "source": [
    "![pipjupyter.png](attachment:pipjupyter.png)"
   ]
  },
  {
   "cell_type": "markdown",
   "metadata": {},
   "source": [
    "___"
   ]
  },
  {
   "cell_type": "markdown",
   "metadata": {},
   "source": [
    "## Creating and editing a Notebook"
   ]
  },
  {
   "cell_type": "markdown",
   "metadata": {},
   "source": [
    "Once the module has been installed, you are able to open the Jupyter dashboard, designed to allow the user to manage their notebooks. Think of it as the launchpad for exploring, editing and creating your notebooks.<br><br>\n",
    "This can be launched by opening the command window and entering the command <code>jupyter notebook</code>, which will open up the current CMD working directory."
   ]
  },
  {
   "cell_type": "markdown",
   "metadata": {},
   "source": [
    "<img src=\"https://www.dataquest.io/wp-content/uploads/2019/01/jupyter-dashboard.jpg\"/>"
   ]
  },
  {
   "cell_type": "markdown",
   "metadata": {},
   "source": [
    "This will open the above dashboard in your default web browser, with the content being served from your local machine and Python.<br><br>\n",
    "The dashboard allows you to browse folders and open notebooks. A new notebook is created using the <strong>New</strong> tab in the right hand corner. Selecting Python 3 will open a new notebook <code>Untitled.ipynb</code>. At any time you can change the name of the notebook at the top left of the document."
   ]
  },
  {
   "cell_type": "markdown",
   "metadata": {},
   "source": [
    "<img src=\"https://www.dataquest.io/wp-content/uploads/2019/01/new-notebook-menu.jpg\" align=\"left\"><img src=\"images/RenameNotebook.png\" align=\"right\">"
   ]
  },
  {
   "cell_type": "markdown",
   "metadata": {},
   "source": [
    "### What is a .ipynb file?"
   ]
  },
  {
   "cell_type": "markdown",
   "metadata": {},
   "source": [
    "This is a text file that describes the content of your notebook in <strong>JSON</strong> format. Opening this file outside of the Jupyter dashboard the entire document will be displayed as JSON."
   ]
  },
  {
   "cell_type": "markdown",
   "metadata": {},
   "source": [
    "## The Notebook Interface"
   ]
  },
  {
   "cell_type": "markdown",
   "metadata": {},
   "source": [
    "<img src=\"https://www.dataquest.io/wp-content/uploads/2019/01/new-notebook.jpg\"/>"
   ]
  },
  {
   "cell_type": "markdown",
   "metadata": {},
   "source": [
    "Once you have opened a new notebook, you will see that you are presented with a single cell. Scrolling through the menu bar, you can see that there are multiple pull down menu's which relate to the notebook document."
   ]
  },
  {
   "cell_type": "markdown",
   "metadata": {},
   "source": [
    "Two important tabs on the notebook are the _Cell_ and _Kernel_ tabs. These are key to understanding how Jupyter."
   ]
  },
  {
   "cell_type": "markdown",
   "metadata": {},
   "source": [
    "* A **kernel** is a “computational engine” that executes the code contained in a notebook document.\n",
    "* A **cell** is a container for text to be displayed in the notebook or code to be executed by the notebook’s kernel."
   ]
  },
  {
   "cell_type": "markdown",
   "metadata": {},
   "source": [
    "### Cells"
   ]
  },
  {
   "cell_type": "markdown",
   "metadata": {},
   "source": [
    "Form the body of the notebook, and can be of a few different types:\n",
    "\n",
    "1. **Code cell**: contains code to be executed in the kernel and display it's outputs below.\n",
    "2. **Markdown cell**: contains text formatted using _Markdown_ and displays it's output in-place when it's run.\n",
    "\n",
    "<div class=\"alert alert-block alert-warning\"><strong>Note</strong>: Using # denotes a heading, which can be used in Markdown cells.<br>\n",
    "# Large Heading<br>\n",
    "##### Small italicized Heading\n",
    "    </div>"
   ]
  },
  {
   "cell_type": "code",
   "execution_count": null,
   "metadata": {},
   "outputs": [],
   "source": [
    "number1 = 100\n",
    "number2 = 50\n",
    "number1 + number2"
   ]
  },
  {
   "cell_type": "markdown",
   "metadata": {},
   "source": [
    "When the cell is run, the output will be displayed below and the label to the left will have changed from <code>In [ ]</code> to <code>In [1]</code>. The output of a code cell also forms part of the document, which is why you can see it in this article.<br><br>\n",
    "the <code>In</code> means 'Input' and the label number indicates the when the cell was executed on the kernel. Running the same cell again, it will change to <code>In [2]</code>."
   ]
  },
  {
   "cell_type": "code",
   "execution_count": null,
   "metadata": {},
   "outputs": [],
   "source": [
    "number3 = number1 + number2"
   ]
  },
  {
   "cell_type": "code",
   "execution_count": null,
   "metadata": {},
   "outputs": [],
   "source": [
    "number3"
   ]
  },
  {
   "cell_type": "markdown",
   "metadata": {},
   "source": [
    "### Kernels"
   ]
  },
  {
   "cell_type": "markdown",
   "metadata": {},
   "source": [
    "Behind every notebook runs a kernel. When you run a code cell, that code is executed within the kernel and any output is returned back to the cell to be displayed. The kernel’s state persists over time and between cells — it pertains to the document as a whole and not individual cells."
   ]
  },
  {
   "cell_type": "markdown",
   "metadata": {},
   "source": [
    "<div class=\"alert alert-block alert-warning\">\n",
    "<b>Note:</b> If you import libraries or declare variables in one cell, they will be available in another. In this way, a notebook document is somewhat comparable to a script file, except that it can contain multimedia.\n",
    "</div>"
   ]
  },
  {
   "cell_type": "code",
   "execution_count": null,
   "metadata": {},
   "outputs": [],
   "source": [
    "import numpy as np"
   ]
  },
  {
   "cell_type": "code",
   "execution_count": null,
   "metadata": {},
   "outputs": [],
   "source": [
    "x = np.random.randint(1, 10)"
   ]
  },
  {
   "cell_type": "code",
   "execution_count": null,
   "metadata": {},
   "outputs": [],
   "source": [
    "print(\"the random number is: {}\".format(x))"
   ]
  },
  {
   "cell_type": "code",
   "execution_count": null,
   "metadata": {},
   "outputs": [],
   "source": [
    "x = 999"
   ]
  },
  {
   "cell_type": "markdown",
   "metadata": {},
   "source": [
    "Generally, the flow in your notebook will be top-to-bottom, but it’s common to go back to make changes. In this case, the order of execution stated to the left of each cell, such as above will let you know whether any of your cells have stale output."
   ]
  },
  {
   "cell_type": "markdown",
   "metadata": {},
   "source": [
    "And if you ever wish to reset things, there are several incredibly useful options from the Kernel menu:\n",
    "\n",
    "<div class=\"alert alert-block alert-success\">\n",
    "><strong>Interrupt:</strong> Stop the execution of the current cell after execution has started.<br>\n",
    "><strong>Restart:</strong> restarts the kernel, thus clearing all the variables etc that were defined.<br>\n",
    "><strong>Restart & Clear Output:</strong> same as above but will also wipe the output displayed below your code cells.<br>\n",
    "><strong>Restart & Run All:</strong> same as above but will also run all your cells in order from first to last.<br></div>\n"
   ]
  },
  {
   "cell_type": "markdown",
   "metadata": {},
   "source": [
    "## Sharing Notebooks"
   ]
  },
  {
   "cell_type": "markdown",
   "metadata": {},
   "source": [
    "Most often, notebooks are shared as an end-result document, which means sharing a non-interactive, pre-rendered versions versions of their notebooks. However it is also possible to collaborate with the aid of version control systems such as Git. "
   ]
  },
  {
   "cell_type": "markdown",
   "metadata": {},
   "source": [
    "<div class=\"alert alert-block alert-info\">\n",
    "<b>Note:</b> Currently, I have used Jupyter Notebooks and Bitbucket for documenting the Amendment Team python code for Amendment Printing.<br>\n",
    "</div>"
   ]
  },
  {
   "cell_type": "markdown",
   "metadata": {},
   "source": [
    "__[Bitbucket - Amendment Printing](https://bitbucket.org/Radius_team/python-tools/src/master/BAU/Planning%20Database/Amendment%20Printing/Documentation/Amendments%20Print%20Tool.ipynb?viewer=nbviewer)__"
   ]
  },
  {
   "cell_type": "markdown",
   "metadata": {},
   "source": [
    "Jupyter has built-in support for exporting to HTML and PDF as well as several other formats, which you can find from the menu under **File > Download As**.<br><br>\n",
    "In addition, the notebook can also be exported to a native python script _(.py)_."
   ]
  },
  {
   "cell_type": "markdown",
   "metadata": {},
   "source": [
    "___"
   ]
  },
  {
   "cell_type": "markdown",
   "metadata": {},
   "source": [
    "## Example - Visualising Amendment History in Boroondara"
   ]
  },
  {
   "cell_type": "markdown",
   "metadata": {},
   "source": [
    "For this example we will use the a couple Python modules to visualise tabular data in Jupyter Notebooks.\n",
    "\n",
    "**pandas:** A library that provides high-level data structures and a vast variety of tools for analysis. Heavily used for data analysis and cleaning, providing fast, flexible data structures, which are designed to work with structured data very quickly and intuitively.\n",
    "\n",
    "**matplotlib:** A numerical plotting library. It is very useful for any data scientist or any data analyzer. \n",
    "\n",
    "Firstly we will input these modules "
   ]
  },
  {
   "cell_type": "code",
   "execution_count": 1,
   "metadata": {},
   "outputs": [],
   "source": [
    "import pandas as pd\n",
    "import matplotlib.pyplot as plt\n",
    "import seaborn as sns\n",
    "sns.set(style=\"darkgrid\")"
   ]
  },
  {
   "cell_type": "markdown",
   "metadata": {},
   "source": [
    "We will then use a CSV export from the _AmendmentHistory_ dataset, and convert it into the most commonly used pandas data structure - A **<code>DataFrame</code>**, which basically looks like a table.\n",
    "\n",
    "Jupyter Notebooks presents these DataFrame tables really nicely and it makes it very easy to work with the data."
   ]
  },
  {
   "cell_type": "code",
   "execution_count": 2,
   "metadata": {},
   "outputs": [
    {
     "data": {
      "text/html": [
       "<div>\n",
       "<style scoped>\n",
       "    .dataframe tbody tr th:only-of-type {\n",
       "        vertical-align: middle;\n",
       "    }\n",
       "\n",
       "    .dataframe tbody tr th {\n",
       "        vertical-align: top;\n",
       "    }\n",
       "\n",
       "    .dataframe thead th {\n",
       "        text-align: right;\n",
       "    }\n",
       "</style>\n",
       "<table border=\"1\" class=\"dataframe\">\n",
       "  <thead>\n",
       "    <tr style=\"text-align: right;\">\n",
       "      <th></th>\n",
       "      <th>AmendmentNumber</th>\n",
       "      <th>ZoneOverlayCode</th>\n",
       "      <th>CodeParent</th>\n",
       "      <th>Municipality</th>\n",
       "      <th>GazettedDate</th>\n",
       "    </tr>\n",
       "  </thead>\n",
       "  <tbody>\n",
       "    <tr>\n",
       "      <th>0</th>\n",
       "      <td>C267</td>\n",
       "      <td>GRZ4</td>\n",
       "      <td>GRZ</td>\n",
       "      <td>307</td>\n",
       "      <td>24/05/2018 0:00</td>\n",
       "    </tr>\n",
       "    <tr>\n",
       "      <th>1</th>\n",
       "      <td>C108</td>\n",
       "      <td>D-DDO18</td>\n",
       "      <td>D-DDO</td>\n",
       "      <td>307</td>\n",
       "      <td>9/04/2015 0:00</td>\n",
       "    </tr>\n",
       "    <tr>\n",
       "      <th>2</th>\n",
       "      <td>C95</td>\n",
       "      <td>D-DDO</td>\n",
       "      <td>D-DDO</td>\n",
       "      <td>307</td>\n",
       "      <td>30/06/2009 0:00</td>\n",
       "    </tr>\n",
       "    <tr>\n",
       "      <th>3</th>\n",
       "      <td>C87</td>\n",
       "      <td>R1Z</td>\n",
       "      <td>R1Z</td>\n",
       "      <td>307</td>\n",
       "      <td>22/10/2009 0:00</td>\n",
       "    </tr>\n",
       "    <tr>\n",
       "      <th>4</th>\n",
       "      <td>L33</td>\n",
       "      <td>PMR</td>\n",
       "      <td>NaN</td>\n",
       "      <td>307</td>\n",
       "      <td>8/01/1998 0:00</td>\n",
       "    </tr>\n",
       "    <tr>\n",
       "      <th>5</th>\n",
       "      <td>C58</td>\n",
       "      <td>DDO8</td>\n",
       "      <td>DDO</td>\n",
       "      <td>307</td>\n",
       "      <td>6/10/2006 0:00</td>\n",
       "    </tr>\n",
       "    <tr>\n",
       "      <th>6</th>\n",
       "      <td>C64</td>\n",
       "      <td>HO439</td>\n",
       "      <td>HO</td>\n",
       "      <td>307</td>\n",
       "      <td>1/10/2009 0:00</td>\n",
       "    </tr>\n",
       "    <tr>\n",
       "      <th>7</th>\n",
       "      <td>C64</td>\n",
       "      <td>HO390</td>\n",
       "      <td>HO</td>\n",
       "      <td>307</td>\n",
       "      <td>1/10/2009 0:00</td>\n",
       "    </tr>\n",
       "    <tr>\n",
       "      <th>8</th>\n",
       "      <td>C190</td>\n",
       "      <td>GRZ4</td>\n",
       "      <td>GRZ</td>\n",
       "      <td>307</td>\n",
       "      <td>19/06/2014 0:00</td>\n",
       "    </tr>\n",
       "    <tr>\n",
       "      <th>9</th>\n",
       "      <td>C211</td>\n",
       "      <td>HO603</td>\n",
       "      <td>HO</td>\n",
       "      <td>307</td>\n",
       "      <td>14/05/2015 0:00</td>\n",
       "    </tr>\n",
       "    <tr>\n",
       "      <th>10</th>\n",
       "      <td>C268Pt3</td>\n",
       "      <td>NRZ3</td>\n",
       "      <td>NRZ</td>\n",
       "      <td>307</td>\n",
       "      <td>28/06/2018 0:00</td>\n",
       "    </tr>\n",
       "    <tr>\n",
       "      <th>11</th>\n",
       "      <td>C107</td>\n",
       "      <td>DDO18</td>\n",
       "      <td>DDO</td>\n",
       "      <td>307</td>\n",
       "      <td>12/07/2012 0:00</td>\n",
       "    </tr>\n",
       "    <tr>\n",
       "      <th>12</th>\n",
       "      <td>C268Pt1</td>\n",
       "      <td>D-PO</td>\n",
       "      <td>D-PO</td>\n",
       "      <td>307</td>\n",
       "      <td>27/09/2018 0:00</td>\n",
       "    </tr>\n",
       "    <tr>\n",
       "      <th>13</th>\n",
       "      <td>C152</td>\n",
       "      <td>HO220</td>\n",
       "      <td>HO</td>\n",
       "      <td>307</td>\n",
       "      <td>25/10/2012 0:00</td>\n",
       "    </tr>\n",
       "    <tr>\n",
       "      <th>14</th>\n",
       "      <td>C63</td>\n",
       "      <td>HO343</td>\n",
       "      <td>HO</td>\n",
       "      <td>307</td>\n",
       "      <td>13/12/2007 0:00</td>\n",
       "    </tr>\n",
       "    <tr>\n",
       "      <th>15</th>\n",
       "      <td>VC95</td>\n",
       "      <td>PO1</td>\n",
       "      <td>PO</td>\n",
       "      <td>307</td>\n",
       "      <td>19/04/2013 0:00</td>\n",
       "    </tr>\n",
       "    <tr>\n",
       "      <th>16</th>\n",
       "      <td>C58</td>\n",
       "      <td>DDO8</td>\n",
       "      <td>DDO</td>\n",
       "      <td>307</td>\n",
       "      <td>6/10/2006 0:00</td>\n",
       "    </tr>\n",
       "    <tr>\n",
       "      <th>17</th>\n",
       "      <td>C189</td>\n",
       "      <td>DDO20</td>\n",
       "      <td>DDO</td>\n",
       "      <td>307</td>\n",
       "      <td>7/08/2014 0:00</td>\n",
       "    </tr>\n",
       "    <tr>\n",
       "      <th>18</th>\n",
       "      <td>C64</td>\n",
       "      <td>HO425</td>\n",
       "      <td>HO</td>\n",
       "      <td>307</td>\n",
       "      <td>1/10/2009 0:00</td>\n",
       "    </tr>\n",
       "    <tr>\n",
       "      <th>19</th>\n",
       "      <td>C64</td>\n",
       "      <td>HO402</td>\n",
       "      <td>HO</td>\n",
       "      <td>307</td>\n",
       "      <td>1/10/2009 0:00</td>\n",
       "    </tr>\n",
       "    <tr>\n",
       "      <th>20</th>\n",
       "      <td>C108</td>\n",
       "      <td>DDO16</td>\n",
       "      <td>DDO</td>\n",
       "      <td>307</td>\n",
       "      <td>9/04/2015 0:00</td>\n",
       "    </tr>\n",
       "    <tr>\n",
       "      <th>21</th>\n",
       "      <td>C64</td>\n",
       "      <td>HO460</td>\n",
       "      <td>HO</td>\n",
       "      <td>307</td>\n",
       "      <td>1/10/2009 0:00</td>\n",
       "    </tr>\n",
       "    <tr>\n",
       "      <th>22</th>\n",
       "      <td>C302bor</td>\n",
       "      <td>HO161</td>\n",
       "      <td>HO</td>\n",
       "      <td>307</td>\n",
       "      <td>29/11/2018 0:00</td>\n",
       "    </tr>\n",
       "    <tr>\n",
       "      <th>23</th>\n",
       "      <td>C190</td>\n",
       "      <td>C1Z</td>\n",
       "      <td>C1Z</td>\n",
       "      <td>307</td>\n",
       "      <td>19/06/2014 0:00</td>\n",
       "    </tr>\n",
       "    <tr>\n",
       "      <th>24</th>\n",
       "      <td>C58</td>\n",
       "      <td>DDO9</td>\n",
       "      <td>DDO</td>\n",
       "      <td>307</td>\n",
       "      <td>6/10/2006 0:00</td>\n",
       "    </tr>\n",
       "    <tr>\n",
       "      <th>25</th>\n",
       "      <td>C58</td>\n",
       "      <td>DDO9</td>\n",
       "      <td>DDO</td>\n",
       "      <td>307</td>\n",
       "      <td>6/10/2006 0:00</td>\n",
       "    </tr>\n",
       "    <tr>\n",
       "      <th>26</th>\n",
       "      <td>C64</td>\n",
       "      <td>HO319</td>\n",
       "      <td>HO</td>\n",
       "      <td>307</td>\n",
       "      <td>1/10/2009 0:00</td>\n",
       "    </tr>\n",
       "    <tr>\n",
       "      <th>27</th>\n",
       "      <td>C63</td>\n",
       "      <td>HO274</td>\n",
       "      <td>HO</td>\n",
       "      <td>307</td>\n",
       "      <td>13/12/2007 0:00</td>\n",
       "    </tr>\n",
       "    <tr>\n",
       "      <th>28</th>\n",
       "      <td>C58</td>\n",
       "      <td>DDO8</td>\n",
       "      <td>DDO</td>\n",
       "      <td>307</td>\n",
       "      <td>6/10/2006 0:00</td>\n",
       "    </tr>\n",
       "    <tr>\n",
       "      <th>29</th>\n",
       "      <td>C64</td>\n",
       "      <td>HO413</td>\n",
       "      <td>HO</td>\n",
       "      <td>307</td>\n",
       "      <td>1/10/2009 0:00</td>\n",
       "    </tr>\n",
       "    <tr>\n",
       "      <th>...</th>\n",
       "      <td>...</td>\n",
       "      <td>...</td>\n",
       "      <td>...</td>\n",
       "      <td>...</td>\n",
       "      <td>...</td>\n",
       "    </tr>\n",
       "    <tr>\n",
       "      <th>3022</th>\n",
       "      <td>C274pt2</td>\n",
       "      <td>HO723</td>\n",
       "      <td>HO</td>\n",
       "      <td>307</td>\n",
       "      <td>12/09/2019 0:00</td>\n",
       "    </tr>\n",
       "    <tr>\n",
       "      <th>3023</th>\n",
       "      <td>C274pt2</td>\n",
       "      <td>HO724</td>\n",
       "      <td>HO</td>\n",
       "      <td>307</td>\n",
       "      <td>12/09/2019 0:00</td>\n",
       "    </tr>\n",
       "    <tr>\n",
       "      <th>3024</th>\n",
       "      <td>C274pt2</td>\n",
       "      <td>HO725</td>\n",
       "      <td>HO</td>\n",
       "      <td>307</td>\n",
       "      <td>12/09/2019 0:00</td>\n",
       "    </tr>\n",
       "    <tr>\n",
       "      <th>3025</th>\n",
       "      <td>C274pt2</td>\n",
       "      <td>HO726</td>\n",
       "      <td>HO</td>\n",
       "      <td>307</td>\n",
       "      <td>12/09/2019 0:00</td>\n",
       "    </tr>\n",
       "    <tr>\n",
       "      <th>3026</th>\n",
       "      <td>C274pt2</td>\n",
       "      <td>HO727</td>\n",
       "      <td>HO</td>\n",
       "      <td>307</td>\n",
       "      <td>12/09/2019 0:00</td>\n",
       "    </tr>\n",
       "    <tr>\n",
       "      <th>3027</th>\n",
       "      <td>C274pt2</td>\n",
       "      <td>HO729</td>\n",
       "      <td>HO</td>\n",
       "      <td>307</td>\n",
       "      <td>12/09/2019 0:00</td>\n",
       "    </tr>\n",
       "    <tr>\n",
       "      <th>3028</th>\n",
       "      <td>C274pt2</td>\n",
       "      <td>HO729</td>\n",
       "      <td>HO</td>\n",
       "      <td>307</td>\n",
       "      <td>12/09/2019 0:00</td>\n",
       "    </tr>\n",
       "    <tr>\n",
       "      <th>3029</th>\n",
       "      <td>C274pt2</td>\n",
       "      <td>HO731</td>\n",
       "      <td>HO</td>\n",
       "      <td>307</td>\n",
       "      <td>12/09/2019 0:00</td>\n",
       "    </tr>\n",
       "    <tr>\n",
       "      <th>3030</th>\n",
       "      <td>C274pt2</td>\n",
       "      <td>HO732</td>\n",
       "      <td>HO</td>\n",
       "      <td>307</td>\n",
       "      <td>12/09/2019 0:00</td>\n",
       "    </tr>\n",
       "    <tr>\n",
       "      <th>3031</th>\n",
       "      <td>C274pt2</td>\n",
       "      <td>HO733</td>\n",
       "      <td>HO</td>\n",
       "      <td>307</td>\n",
       "      <td>12/09/2019 0:00</td>\n",
       "    </tr>\n",
       "    <tr>\n",
       "      <th>3032</th>\n",
       "      <td>C274pt2</td>\n",
       "      <td>HO734</td>\n",
       "      <td>HO</td>\n",
       "      <td>307</td>\n",
       "      <td>12/09/2019 0:00</td>\n",
       "    </tr>\n",
       "    <tr>\n",
       "      <th>3033</th>\n",
       "      <td>C274pt2</td>\n",
       "      <td>HO735</td>\n",
       "      <td>HO</td>\n",
       "      <td>307</td>\n",
       "      <td>12/09/2019 0:00</td>\n",
       "    </tr>\n",
       "    <tr>\n",
       "      <th>3034</th>\n",
       "      <td>C274pt2</td>\n",
       "      <td>HO736</td>\n",
       "      <td>HO</td>\n",
       "      <td>307</td>\n",
       "      <td>12/09/2019 0:00</td>\n",
       "    </tr>\n",
       "    <tr>\n",
       "      <th>3035</th>\n",
       "      <td>C274pt2</td>\n",
       "      <td>HO737</td>\n",
       "      <td>HO</td>\n",
       "      <td>307</td>\n",
       "      <td>12/09/2019 0:00</td>\n",
       "    </tr>\n",
       "    <tr>\n",
       "      <th>3036</th>\n",
       "      <td>C274pt2</td>\n",
       "      <td>HO738</td>\n",
       "      <td>HO</td>\n",
       "      <td>307</td>\n",
       "      <td>12/09/2019 0:00</td>\n",
       "    </tr>\n",
       "    <tr>\n",
       "      <th>3037</th>\n",
       "      <td>C274pt2</td>\n",
       "      <td>HO739</td>\n",
       "      <td>HO</td>\n",
       "      <td>307</td>\n",
       "      <td>12/09/2019 0:00</td>\n",
       "    </tr>\n",
       "    <tr>\n",
       "      <th>3038</th>\n",
       "      <td>C274pt2</td>\n",
       "      <td>HO749</td>\n",
       "      <td>HO</td>\n",
       "      <td>307</td>\n",
       "      <td>12/09/2019 0:00</td>\n",
       "    </tr>\n",
       "    <tr>\n",
       "      <th>3039</th>\n",
       "      <td>C303boro</td>\n",
       "      <td>D-HO225</td>\n",
       "      <td>D-HO</td>\n",
       "      <td>307</td>\n",
       "      <td>17/10/2019 0:00</td>\n",
       "    </tr>\n",
       "    <tr>\n",
       "      <th>3040</th>\n",
       "      <td>C303boro</td>\n",
       "      <td>HO171</td>\n",
       "      <td>HO</td>\n",
       "      <td>307</td>\n",
       "      <td>17/10/2019 0:00</td>\n",
       "    </tr>\n",
       "    <tr>\n",
       "      <th>3041</th>\n",
       "      <td>C307boro</td>\n",
       "      <td>HO829</td>\n",
       "      <td>HO</td>\n",
       "      <td>307</td>\n",
       "      <td>24/10/2019 0:00</td>\n",
       "    </tr>\n",
       "    <tr>\n",
       "      <th>3042</th>\n",
       "      <td>C307boro</td>\n",
       "      <td>HO830</td>\n",
       "      <td>HO</td>\n",
       "      <td>307</td>\n",
       "      <td>24/10/2019 0:00</td>\n",
       "    </tr>\n",
       "    <tr>\n",
       "      <th>3043</th>\n",
       "      <td>C307boro</td>\n",
       "      <td>HO832</td>\n",
       "      <td>HO</td>\n",
       "      <td>307</td>\n",
       "      <td>24/10/2019 0:00</td>\n",
       "    </tr>\n",
       "    <tr>\n",
       "      <th>3044</th>\n",
       "      <td>C307boro</td>\n",
       "      <td>HO833</td>\n",
       "      <td>HO</td>\n",
       "      <td>307</td>\n",
       "      <td>24/10/2019 0:00</td>\n",
       "    </tr>\n",
       "    <tr>\n",
       "      <th>3045</th>\n",
       "      <td>C307boro</td>\n",
       "      <td>HO834</td>\n",
       "      <td>HO</td>\n",
       "      <td>307</td>\n",
       "      <td>24/10/2019 0:00</td>\n",
       "    </tr>\n",
       "    <tr>\n",
       "      <th>3046</th>\n",
       "      <td>C307boro</td>\n",
       "      <td>HO835</td>\n",
       "      <td>HO</td>\n",
       "      <td>307</td>\n",
       "      <td>24/10/2019 0:00</td>\n",
       "    </tr>\n",
       "    <tr>\n",
       "      <th>3047</th>\n",
       "      <td>C307boro</td>\n",
       "      <td>HO836</td>\n",
       "      <td>HO</td>\n",
       "      <td>307</td>\n",
       "      <td>24/10/2019 0:00</td>\n",
       "    </tr>\n",
       "    <tr>\n",
       "      <th>3048</th>\n",
       "      <td>C307boro</td>\n",
       "      <td>HO837</td>\n",
       "      <td>HO</td>\n",
       "      <td>307</td>\n",
       "      <td>24/10/2019 0:00</td>\n",
       "    </tr>\n",
       "    <tr>\n",
       "      <th>3049</th>\n",
       "      <td>C307boro</td>\n",
       "      <td>HO838</td>\n",
       "      <td>HO</td>\n",
       "      <td>307</td>\n",
       "      <td>24/10/2019 0:00</td>\n",
       "    </tr>\n",
       "    <tr>\n",
       "      <th>3050</th>\n",
       "      <td>C307boro</td>\n",
       "      <td>HO839</td>\n",
       "      <td>HO</td>\n",
       "      <td>307</td>\n",
       "      <td>24/10/2019 0:00</td>\n",
       "    </tr>\n",
       "    <tr>\n",
       "      <th>3051</th>\n",
       "      <td>C307boro</td>\n",
       "      <td>HO840</td>\n",
       "      <td>HO</td>\n",
       "      <td>307</td>\n",
       "      <td>24/10/2019 0:00</td>\n",
       "    </tr>\n",
       "  </tbody>\n",
       "</table>\n",
       "<p>3052 rows × 5 columns</p>\n",
       "</div>"
      ],
      "text/plain": [
       "     AmendmentNumber ZoneOverlayCode CodeParent  Municipality     GazettedDate\n",
       "0               C267            GRZ4        GRZ           307  24/05/2018 0:00\n",
       "1               C108         D-DDO18      D-DDO           307   9/04/2015 0:00\n",
       "2                C95           D-DDO      D-DDO           307  30/06/2009 0:00\n",
       "3                C87             R1Z        R1Z           307  22/10/2009 0:00\n",
       "4                L33             PMR        NaN           307   8/01/1998 0:00\n",
       "...              ...             ...        ...           ...              ...\n",
       "3047        C307boro           HO836         HO           307  24/10/2019 0:00\n",
       "3048        C307boro           HO837         HO           307  24/10/2019 0:00\n",
       "3049        C307boro           HO838         HO           307  24/10/2019 0:00\n",
       "3050        C307boro           HO839         HO           307  24/10/2019 0:00\n",
       "3051        C307boro           HO840         HO           307  24/10/2019 0:00\n",
       "\n",
       "[3052 rows x 5 columns]"
      ]
     },
     "execution_count": 2,
     "metadata": {},
     "output_type": "execute_result"
    }
   ],
   "source": [
    "df = pd.read_csv(r\"C:\\Data\\Jupyter_Notebooks\\Data\\Boroondara_AmHistory.csv\")\n",
    "df"
   ]
  },
  {
   "cell_type": "markdown",
   "metadata": {},
   "source": [
    "By performing some basic data cleansing on the current <code>DataFrame</code>, we can add a new field **year** based on the _GazettalDate_ field and update the _CodeParent_ field to simplify the data (e.g remove schedule numbers or deletion prefixes (D-) from the data"
   ]
  },
  {
   "cell_type": "code",
   "execution_count": 9,
   "metadata": {},
   "outputs": [],
   "source": [
    "df['year'] = pd.DatetimeIndex(df['GazettedDate']).year\n",
    "df['year'] = df['year'].astype(int)\n",
    "df[\"CodeParent\"]= df[\"CodeParent\"].str.replace('\\d+', '', regex=True)\n",
    "df[\"CodeParent\"]= df[\"CodeParent\"].str.replace('\\D-', '', regex=True)\n",
    "\n",
    "Zones_CodeParent = [\n",
    "        'ACZ', 'BZ', 'B1Z', 'B2Z', 'B3Z', 'B4Z', 'B5Z', 'CZ', 'C1Z',\n",
    "        'C2Z', 'C3Z', 'CA', 'CCZ', 'CDZ', 'D-PS', 'DZ', 'ERZ', 'FZ',\n",
    "        'GRZ', 'GWAZ', 'GWZ', 'IN1Z', 'IN2Z', 'IN3Z',\n",
    "        'LDRZ', 'MUZ', 'NRZ', 'PCRZ', 'PDZ', 'PPRZ',\n",
    "        'PUZ', 'PZ', 'RZ', 'R1Z', 'R2Z', 'R3Z', 'RAZ', 'RCZ',\n",
    "        'RDZ', 'RGZ', 'RLZ', 'RUZ', 'SUZ', 'TZ', 'UFZ',\n",
    "        'UGB', 'UGZ', 'URZ']\n",
    "df.loc[df.CodeParent.isin(Zones_CodeParent), \"CodeParent\"] = 'ZN'"
   ]
  },
  {
   "cell_type": "markdown",
   "metadata": {},
   "source": [
    "Once the data has been cleaned, we are able to use this data to create various types of plots. The purpose of this example is to demonstrate how quickly and easily Jupyter Notebooks can present/diplay these sorts of graphs."
   ]
  },
  {
   "cell_type": "code",
   "execution_count": 10,
   "metadata": {},
   "outputs": [
    {
     "data": {
      "text/plain": [
       "<matplotlib.axes._subplots.AxesSubplot at 0x159adff0>"
      ]
     },
     "execution_count": 10,
     "metadata": {},
     "output_type": "execute_result"
    },
    {
     "data": {
      "image/png": "[encoded data removed]",
      "text/plain": [
       "<Figure size 432x288 with 1 Axes>"
      ]
     },
     "metadata": {
      "needs_background": "light"
     },
     "output_type": "display_data"
    }
   ],
   "source": [
    "df['year'].value_counts(ascending=False).sort_index().plot()"
   ]
  },
  {
   "cell_type": "markdown",
   "metadata": {},
   "source": [
    "Too add another layer of information to our plot, we can also display information from multitple fields. It is also very easy to add a legend, x/y labels and a title to the output."
   ]
  },
  {
   "cell_type": "code",
   "execution_count": 19,
   "metadata": {},
   "outputs": [
    {
     "data": {
      "image/png": "[encoded data removed]",
      "text/plain": [
       "<Figure size 1152x720 with 1 Axes>"
      ]
     },
     "metadata": {
      "needs_background": "light"
     },
     "output_type": "display_data"
    }
   ],
   "source": [
    "colors = ['blue','purple','orange','lightgreen','brown','yellow','pink','lightgrey','grey','green','darkgreen','red']\n",
    "df.groupby(['year','CodeParent']).size().unstack().plot(kind='bar',stacked=True, figsize=(16,10), color=colors)\n",
    "plt.legend(loc='center left', bbox_to_anchor=(1, 0.5))\n",
    "plt.ylabel(\"Number of Amendment Polygons\")\n",
    "plt.title(\"Amendment History of Boroondara\")\n",
    "plt.show()"
   ]
  },
  {
   "cell_type": "markdown",
   "metadata": {},
   "source": [
    "***"
   ]
  },
  {
   "cell_type": "markdown",
   "metadata": {},
   "source": [
    "This is a basic example of the possibilities using Jupyter with pandas and matplotlib. There are many more!!!"
   ]
  },
  {
   "cell_type": "markdown",
   "metadata": {},
   "source": [
    "<img src=\"https://miro.medium.com/max/2832/1*_tAvcFVVOkgY8-GbBPCs3w.png\"/>"
   ]
  },
  {
   "cell_type": "markdown",
   "metadata": {},
   "source": [
    "## Using Jupyter with ArcGIS API for Python"
   ]
  },
  {
   "cell_type": "markdown",
   "metadata": {},
   "source": [
    "Python library to perform GIS visualization and analysis, spatial data management and GIS system administration tasks that can run both interactively, and using scripts.\n",
    "\n",
    "This can be used with Jupyter to view, query and analyse data on ArcGIS Online."
   ]
  },
  {
   "cell_type": "code",
   "execution_count": null,
   "metadata": {},
   "outputs": [],
   "source": [
    "from IPython.display import display\n",
    "import arcgis\n",
    "from arcgis.gis import GIS"
   ]
  },
  {
   "cell_type": "code",
   "execution_count": null,
   "metadata": {},
   "outputs": [],
   "source": [
    "# connect to your GIS\n",
    "gis = GIS(\"https://delwp.maps.arcgis.com\", username=\"delwp_tc80\", password=\"Indie2018!\")\n",
    "print(\"Successfully logged in as: \" + gis.properties.user.username)"
   ]
  },
  {
   "cell_type": "code",
   "execution_count": null,
   "metadata": {},
   "outputs": [],
   "source": [
    "search_result = gis.content.search(query=\"lga\", item_type=\"Feature Layer\")\n",
    "search_result"
   ]
  },
  {
   "cell_type": "code",
   "execution_count": null,
   "metadata": {},
   "outputs": [],
   "source": [
    "featureLayer = search_result[1]\n",
    "featureLayer"
   ]
  },
  {
   "cell_type": "code",
   "execution_count": null,
   "metadata": {},
   "outputs": [],
   "source": [
    "m1 = gis.map()\n",
    "m1.add_layer(featureLayer.layers[0])\n",
    "m1"
   ]
  },
  {
   "cell_type": "code",
   "execution_count": null,
   "metadata": {},
   "outputs": [],
   "source": [
    "from arcgis.features import FeatureLayer"
   ]
  },
  {
   "cell_type": "code",
   "execution_count": null,
   "metadata": {},
   "outputs": [],
   "source": [
    "lyr_url = 'http://gis.mapshare.vic.gov.au/arcgis/rest/services/Planning/Vicplan_PlanningSchemeOverlays/MapServer/9'\n",
    "\n",
    "layer = FeatureLayer(lyr_url)\n",
    "layer"
   ]
  },
  {
   "cell_type": "code",
   "execution_count": null,
   "metadata": {},
   "outputs": [],
   "source": [
    "m1.add_layer(layer)\n",
    "m1"
   ]
  },
  {
   "cell_type": "code",
   "execution_count": null,
   "metadata": {},
   "outputs": [],
   "source": [
    "query_result1 = layer.query(where=\"ZONE_CODE='HO1000'\", \n",
    "                                    out_fields='*')\n",
    "len(query_result1.features)"
   ]
  },
  {
   "cell_type": "code",
   "execution_count": null,
   "metadata": {},
   "outputs": [],
   "source": [
    "m2 = gis.map()\n",
    "m2.add_layer(query_result1)"
   ]
  },
  {
   "cell_type": "code",
   "execution_count": null,
   "metadata": {},
   "outputs": [],
   "source": [
    "m2"
   ]
  },
  {
   "cell_type": "markdown",
   "metadata": {},
   "source": [
    "<img src=\"https://thumbs.gfycat.com/WateryIncomparableCony-size_restricted.gif\"/>"
   ]
  },
  {
   "cell_type": "code",
   "execution_count": null,
   "metadata": {},
   "outputs": [],
   "source": []
  }
 ],
 "metadata": {
  "kernelspec": {
   "display_name": "Python 3",
   "language": "python",
   "name": "python3"
  },
  "language_info": {
   "codemirror_mode": {
    "name": "ipython",
    "version": 3
   },
   "file_extension": ".py",
   "mimetype": "text/x-python",
   "name": "python",
   "nbconvert_exporter": "python",
   "pygments_lexer": "ipython3",
   "version": "3.7.3"
  }
 },
 "nbformat": 4,
 "nbformat_minor": 2
}
